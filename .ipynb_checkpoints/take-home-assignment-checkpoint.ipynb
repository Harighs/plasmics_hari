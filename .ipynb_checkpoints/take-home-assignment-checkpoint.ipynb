{
 "cells": [
  {
   "cell_type": "markdown",
   "metadata": {},
   "source": [
    "# Intro notes:\n",
    "\n",
    "1. For all the challenges we only wish to see your thought process more than ready solutions; (for example, for task 1, if you decide to only outline a pseudocode for the solution and then later discuss that with us, thats ok (although we would like to see some code of your own))\n",
    "2. Try to spend as little time as possible on the assignments and avoid perfectionism; we will be discussing the solutions together anyway\n",
    "\n",
    "These two things combined mean that the criteria for evaluating the assignment are (in order):\n",
    "1. Your approach and ability to explain it verbally to us in the upcoming round\n",
    "2. Your code style"
   ]
  },
  {
   "cell_type": "markdown",
   "metadata": {},
   "source": [
    "# Task 1: Image processing"
   ]
  },
  {
   "cell_type": "markdown",
   "metadata": {},
   "source": [
    "Given is an image of a cat lying in grass and sand.\n",
    "1. Write a pipeline that separates the cat from the background and show us the output.\n",
    "2. Test the pipeline with some additional images of cats (augmented, generated)\n",
    "3. Break the system :)\n",
    "    - we are interested in seeing how you would test a machine learning system to understand why and how it fails\n",
    "\n",
    "Try to write the pipeline as efficiently as possible and try to prove it by timing it.\n",
    "You can import and use any approach, library & framework you like for this task.\n",
    "\n",
    "In the next interview, please present your approach and explain your workflow/your ideas behind the individual steps.\n",
    "\n",
    "<img src=\"example_pic_cat.jpg\" alt=\"example cat\" width=\"536\" height=\"356\"  />"
   ]
  },
  {
   "cell_type": "code",
   "execution_count": 7,
   "metadata": {},
   "outputs": [],
   "source": [
    "#------------------- your code\n",
    "\n",
    "\n",
    "#-----------------------------"
   ]
  },
  {
   "cell_type": "markdown",
   "metadata": {},
   "source": [
    "# Task 2: Describe the most interesting ML project you encountered in the last couple of weeks"
   ]
  },
  {
   "cell_type": "markdown",
   "metadata": {},
   "source": [
    "Briefly summarize your thoughts about the project (preferably in the Computer Vision area), its applicability or value, what you like so much about it, and what are the technologies involved. \n",
    "\n",
    "Feel free to add links, images, etc. (No code required!)\n",
    "\n",
    "Extra points if you also share some related experiments, but not necessary :)"
   ]
  },
  {
   "cell_type": "markdown",
   "metadata": {},
   "source": [
    "-- your explanation here:"
   ]
  },
  {
   "cell_type": "code",
   "execution_count": null,
   "metadata": {},
   "outputs": [],
   "source": []
  }
 ],
 "metadata": {
  "kernelspec": {
   "display_name": "Python 3 (ipykernel)",
   "language": "python",
   "name": "python3"
  },
  "language_info": {
   "codemirror_mode": {
    "name": "ipython",
    "version": 3
   },
   "file_extension": ".py",
   "mimetype": "text/x-python",
   "name": "python",
   "nbconvert_exporter": "python",
   "pygments_lexer": "ipython3",
   "version": "3.10.10"
  },
  "vscode": {
   "interpreter": {
    "hash": "d55d083706a9c020f114bf1c514291b6a16f7df9c2c6a6da9b89d58e3afcb641"
   }
  }
 },
 "nbformat": 4,
 "nbformat_minor": 4
}
