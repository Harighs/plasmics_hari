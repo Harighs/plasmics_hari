{
 "cells": [
  {
   "cell_type": "code",
   "execution_count": 1,
   "metadata": {},
   "outputs": [
    {
     "name": "stdout",
     "output_type": "stream",
     "text": [
      "pygame 2.5.0 (SDL 2.28.0, Python 3.8.17)\n",
      "Hello from the pygame community. https://www.pygame.org/contribute.html\n"
     ]
    }
   ],
   "source": [
    "import pygame\n",
    "import random"
   ]
  },
  {
   "cell_type": "code",
   "execution_count": 2,
   "metadata": {},
   "outputs": [],
   "source": [
    "# Initialize the Pygame library\n",
    "pygame.init()\n",
    "\n",
    "# Set the width and height of the screen (in pixels)\n",
    "WIDTH = 800\n",
    "HEIGHT = 600\n",
    "\n",
    "# Set the number of cells in each direction\n",
    "CELL_SIZE = 5\n",
    "GRID_WIDTH = WIDTH // CELL_SIZE\n",
    "GRID_HEIGHT = HEIGHT // CELL_SIZE\n",
    "\n",
    "# Set the colors\n",
    "BLACK = (0, 0, 0)\n",
    "WHITE = (255, 255, 255)\n",
    "\n",
    "# Create the screen\n",
    "screen = pygame.display.set_mode((WIDTH, HEIGHT))\n",
    "pygame.display.set_caption(\"Game of Life for PLASMICS\")\n",
    "\n",
    "# Create the grid\n",
    "grid = [[random.choice([0, 1]) for _ in range(GRID_WIDTH)] for _ in range(GRID_HEIGHT)]\n",
    "\n",
    "\n",
    "def get_neighbor_count(grid, x, y):\n",
    "    count = 0\n",
    "    for i in range(-1, 2):\n",
    "        for j in range(-1, 2):\n",
    "            neighbor_x = (x + j + GRID_WIDTH) % GRID_WIDTH\n",
    "            neighbor_y = (y + i + GRID_HEIGHT) % GRID_HEIGHT\n",
    "            count += grid[neighbor_y][neighbor_x]\n",
    "    count -= grid[y][x]\n",
    "    return count\n",
    "\n",
    "\n",
    "def update_grid(grid):\n",
    "    new_grid = [[0] * GRID_WIDTH for _ in range(GRID_HEIGHT)]\n",
    "    for y in range(GRID_HEIGHT):\n",
    "        for x in range(GRID_WIDTH):\n",
    "            count = get_neighbor_count(grid, x, y)\n",
    "            if grid[y][x] == 1:\n",
    "                if count in [2, 3]:\n",
    "                    new_grid[y][x] = 1\n",
    "            elif count == 3:\n",
    "                new_grid[y][x] = 1\n",
    "    return new_grid\n",
    "\n",
    "\n",
    "def draw_grid():\n",
    "    for y in range(GRID_HEIGHT):\n",
    "        for x in range(GRID_WIDTH):\n",
    "            if grid[y][x] == 1:\n",
    "                pygame.draw.rect(screen, WHITE, (x * CELL_SIZE, y * CELL_SIZE, CELL_SIZE, CELL_SIZE))\n",
    "\n",
    "\n",
    "# Game loop\n",
    "running = True\n",
    "paused = False\n",
    "\n",
    "while running:\n",
    "    for event in pygame.event.get():\n",
    "        if event.type == pygame.QUIT:\n",
    "            running = False\n",
    "        elif event.type == pygame.KEYDOWN:\n",
    "            if event.key == pygame.K_SPACE:\n",
    "                paused = not paused\n",
    "            elif event.key == pygame.K_c:\n",
    "                grid = [[0] * GRID_WIDTH for _ in range(GRID_HEIGHT)]\n",
    "            elif event.key == pygame.K_r:\n",
    "                grid = [[random.choice([0, 1]) for _ in range(GRID_WIDTH)] for _ in range(GRID_HEIGHT)]\n",
    "\n",
    "    if not paused:\n",
    "        grid = update_grid(grid)\n",
    "\n",
    "    # Fill the screen with black color\n",
    "    screen.fill(BLACK)\n",
    "\n",
    "    # Draw the grid\n",
    "    draw_grid()\n",
    "\n",
    "    # Update the display\n",
    "    pygame.display.update()\n",
    "\n",
    "# Quit the game\n",
    "pygame.quit()\n"
   ]
  },
  {
   "cell_type": "code",
   "execution_count": null,
   "metadata": {},
   "outputs": [],
   "source": []
  }
 ],
 "metadata": {
  "kernelspec": {
   "display_name": "yolo",
   "language": "python",
   "name": "python3"
  },
  "language_info": {
   "codemirror_mode": {
    "name": "ipython",
    "version": 3
   },
   "file_extension": ".py",
   "mimetype": "text/x-python",
   "name": "python",
   "nbconvert_exporter": "python",
   "pygments_lexer": "ipython3",
   "version": "3.8.17"
  },
  "orig_nbformat": 4
 },
 "nbformat": 4,
 "nbformat_minor": 2
}
